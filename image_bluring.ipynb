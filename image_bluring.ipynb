{
 "cells": [
  {
   "cell_type": "code",
   "execution_count": 8,
   "id": "8beb87b2",
   "metadata": {},
   "outputs": [],
   "source": [
    "import cv2\n",
    "import numpy as np\n",
    "import os"
   ]
  },
  {
   "cell_type": "code",
   "execution_count": 9,
   "id": "88902267",
   "metadata": {},
   "outputs": [],
   "source": [
    "def apply_gaussian_blur(img, kernel_size=(5, 5)):\n",
    "    \"\"\"Apply Gaussian blur to the image.\"\"\"\n",
    "    return cv2.GaussianBlur(img, kernel_size, 0)"
   ]
  },
  {
   "cell_type": "code",
   "execution_count": 10,
   "id": "9d12d5c7",
   "metadata": {},
   "outputs": [],
   "source": [
    "def add_gaussian_noise(img):\n",
    "    \"\"\"Add Gaussian noise to the image.\"\"\"\n",
    "    row, col, ch = img.shape\n",
    "    mean = 0\n",
    "    var = 0.1\n",
    "    sigma = var ** 0.5\n",
    "    gauss = np.random.normal(mean, sigma, (row, col, ch))\n",
    "    gauss = gauss.reshape(row, col, ch)\n",
    "    noisy_img = img + gauss * 255\n",
    "    return np.clip(noisy_img, 0, 255).astype(np.uint8)"
   ]
  },
  {
   "cell_type": "code",
   "execution_count": 11,
   "id": "9534fb04",
   "metadata": {},
   "outputs": [],
   "source": [
    "def degrade_image_quality(img, output_path):\n",
    "    \"\"\"Degrade the image quality and save the output.\"\"\"\n",
    "    blurred_img = apply_gaussian_blur(img)\n",
    "    noisy_img = add_gaussian_noise(blurred_img)\n",
    "    cv2.imwrite(output_path, noisy_img)"
   ]
  },
  {
   "cell_type": "code",
   "execution_count": 12,
   "id": "980419aa-b09b-4662-b49b-8fb822de3cfd",
   "metadata": {},
   "outputs": [],
   "source": [
    "def process_folder(input_folder, output_folder):\n",
    "    \"\"\"Process all images in the input folder, apply noise, and save them to the output folder.\"\"\"\n",
    "    if not os.path.exists(output_folder):\n",
    "        os.makedirs(output_folder)\n",
    "\n",
    "    for filename in os.listdir(input_folder):\n",
    "        if filename.lower().endswith(('.png', '.jpg', '.jpeg')):\n",
    "            img_path = os.path.join(input_folder, filename)\n",
    "            img = cv2.imread(img_path)\n",
    "            if img is not None:\n",
    "                output_path = os.path.join(output_folder, filename)\n",
    "                degrade_image_quality(img, output_path)\n",
    "                print(f\"Output saved to {output_path}\")\n",
    "            else:\n",
    "                print(f\"Error: Unable to load image at {img_path}.\")"
   ]
  },
  {
   "cell_type": "code",
   "execution_count": 13,
   "id": "87f19b99-87fa-4c2d-aa51-e6bb158598bf",
   "metadata": {
    "scrolled": true
   },
   "outputs": [
    {
     "name": "stdout",
     "output_type": "stream",
     "text": [
      "Output saved to F:\\super_resolution_project\\lr_crowd_test_img\\1075029,f02bf00052d5c383.jpg\n",
      "Output saved to F:\\super_resolution_project\\lr_crowd_test_img\\273271,12c170004bd53807.jpg\n",
      "Output saved to F:\\super_resolution_project\\lr_crowd_test_img\\273271,13d43000e395817c.jpg\n",
      "Output saved to F:\\super_resolution_project\\lr_crowd_test_img\\273271,1f521000946ad8d8.jpg\n",
      "Output saved to F:\\super_resolution_project\\lr_crowd_test_img\\273271,22b030001c7be4ec.jpg\n",
      "Output saved to F:\\super_resolution_project\\lr_crowd_test_img\\273271,2d284000f7dfd099.jpg\n",
      "Output saved to F:\\super_resolution_project\\lr_crowd_test_img\\273271,4df400094283283.jpg\n"
     ]
    }
   ],
   "source": [
    "if __name__ == \"__main__\":\n",
    "    input_folder = r'F:\\super_resolution_project\\hr_crowd_test_img'\n",
    "    output_folder = r'F:\\super_resolution_project\\lr_crowd_test_img'\n",
    "    process_folder(input_folder, output_folder)"
   ]
  }
 ],
 "metadata": {
  "kernelspec": {
   "display_name": "Python 3 (ipykernel)",
   "language": "python",
   "name": "python3"
  },
  "language_info": {
   "codemirror_mode": {
    "name": "ipython",
    "version": 3
   },
   "file_extension": ".py",
   "mimetype": "text/x-python",
   "name": "python",
   "nbconvert_exporter": "python",
   "pygments_lexer": "ipython3",
   "version": "3.11.8"
  }
 },
 "nbformat": 4,
 "nbformat_minor": 5
}
